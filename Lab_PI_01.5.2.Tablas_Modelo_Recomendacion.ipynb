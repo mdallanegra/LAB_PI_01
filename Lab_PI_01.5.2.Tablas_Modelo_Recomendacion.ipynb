{
 "cells": [
  {
   "cell_type": "code",
   "execution_count": 17,
   "metadata": {},
   "outputs": [],
   "source": [
    "import pandas as pd"
   ]
  },
  {
   "cell_type": "markdown",
   "metadata": {},
   "source": [
    "# Tabla de Recomendacion"
   ]
  },
  {
   "cell_type": "markdown",
   "metadata": {},
   "source": [
    "Basandonos en las tablas creadas para FastAPI creamos una para el Modelo de Recomendación"
   ]
  },
  {
   "cell_type": "markdown",
   "metadata": {},
   "source": [
    "- merged_steam_rev_data.parquet"
   ]
  },
  {
   "cell_type": "code",
   "execution_count": 18,
   "metadata": {},
   "outputs": [],
   "source": [
    "# Direccion del archivo comprimido y reconvertido\n",
    "merged_steam_rev_content = 'data/FastAPI/merged_steam_rev_data.parquet'\n",
    "\n",
    "# Cargar directamente el archivo comprimido en un DataFrame\n",
    "merged_steam_rev_data = pd.read_parquet(merged_steam_rev_content)"
   ]
  },
  {
   "cell_type": "markdown",
   "metadata": {},
   "source": [
    "- merged_steam_user_data.parquet"
   ]
  },
  {
   "cell_type": "code",
   "execution_count": 19,
   "metadata": {},
   "outputs": [],
   "source": [
    "# Direccion del archivo comprimido y reconvertido\n",
    "merged_steam_user_content = 'data/FastAPI/merged_steam_user_data.parquet'\n",
    "\n",
    "# Cargar directamente el archivo comprimido en un DataFrame\n",
    "merged_steam_user_data = pd.read_parquet(merged_steam_user_content)"
   ]
  },
  {
   "cell_type": "markdown",
   "metadata": {},
   "source": [
    "- Fusionamos las Tablas"
   ]
  },
  {
   "cell_type": "code",
   "execution_count": 20,
   "metadata": {},
   "outputs": [],
   "source": [
    "# Fusionar los DataFrames por las columnas mencionadas\n",
    "merged_recommend_model_data = pd.merge(merged_steam_rev_data[['item_id','app_name', 'recommend', 'sentiment_analysis']],\n",
    "                                       merged_steam_user_data[['item_id', 'user_id']],\n",
    "                                       on='item_id')\n",
    "\n",
    "# Ordenar por la columna 'app_name'\n",
    "merged_recommend_model_data.sort_values('item_id', inplace=True)\n"
   ]
  },
  {
   "cell_type": "code",
   "execution_count": 21,
   "metadata": {},
   "outputs": [
    {
     "data": {
      "text/html": [
       "<div>\n",
       "<style scoped>\n",
       "    .dataframe tbody tr th:only-of-type {\n",
       "        vertical-align: middle;\n",
       "    }\n",
       "\n",
       "    .dataframe tbody tr th {\n",
       "        vertical-align: top;\n",
       "    }\n",
       "\n",
       "    .dataframe thead th {\n",
       "        text-align: right;\n",
       "    }\n",
       "</style>\n",
       "<table border=\"1\" class=\"dataframe\">\n",
       "  <thead>\n",
       "    <tr style=\"text-align: right;\">\n",
       "      <th></th>\n",
       "      <th>item_id</th>\n",
       "      <th>app_name</th>\n",
       "      <th>recommend</th>\n",
       "      <th>sentiment_analysis</th>\n",
       "      <th>user_id</th>\n",
       "    </tr>\n",
       "  </thead>\n",
       "  <tbody>\n",
       "    <tr>\n",
       "      <th>605</th>\n",
       "      <td>10</td>\n",
       "      <td>Counter-Strike</td>\n",
       "      <td>False</td>\n",
       "      <td>2</td>\n",
       "      <td>PorkChopElite</td>\n",
       "    </tr>\n",
       "    <tr>\n",
       "      <th>517</th>\n",
       "      <td>10</td>\n",
       "      <td>Counter-Strike</td>\n",
       "      <td>True</td>\n",
       "      <td>1</td>\n",
       "      <td>tomdabomb115</td>\n",
       "    </tr>\n",
       "    <tr>\n",
       "      <th>518</th>\n",
       "      <td>10</td>\n",
       "      <td>Counter-Strike</td>\n",
       "      <td>True</td>\n",
       "      <td>1</td>\n",
       "      <td>jordanwech111</td>\n",
       "    </tr>\n",
       "    <tr>\n",
       "      <th>519</th>\n",
       "      <td>10</td>\n",
       "      <td>Counter-Strike</td>\n",
       "      <td>True</td>\n",
       "      <td>1</td>\n",
       "      <td>76561198071047037</td>\n",
       "    </tr>\n",
       "    <tr>\n",
       "      <th>520</th>\n",
       "      <td>10</td>\n",
       "      <td>Counter-Strike</td>\n",
       "      <td>True</td>\n",
       "      <td>1</td>\n",
       "      <td>shitmelnbonsays</td>\n",
       "    </tr>\n",
       "  </tbody>\n",
       "</table>\n",
       "</div>"
      ],
      "text/plain": [
       "     item_id        app_name  recommend  sentiment_analysis            user_id\n",
       "605       10  Counter-Strike      False                   2      PorkChopElite\n",
       "517       10  Counter-Strike       True                   1       tomdabomb115\n",
       "518       10  Counter-Strike       True                   1      jordanwech111\n",
       "519       10  Counter-Strike       True                   1  76561198071047037\n",
       "520       10  Counter-Strike       True                   1    shitmelnbonsays"
      ]
     },
     "execution_count": 21,
     "metadata": {},
     "output_type": "execute_result"
    }
   ],
   "source": [
    "merged_recommend_model_data.head()"
   ]
  },
  {
   "cell_type": "code",
   "execution_count": 22,
   "metadata": {},
   "outputs": [
    {
     "name": "stdout",
     "output_type": "stream",
     "text": [
      "<class 'pandas.core.frame.DataFrame'>\n",
      "Index: 14385 entries, 605 to 10354\n",
      "Data columns (total 5 columns):\n",
      " #   Column              Non-Null Count  Dtype \n",
      "---  ------              --------------  ----- \n",
      " 0   item_id             14385 non-null  int64 \n",
      " 1   app_name            14385 non-null  object\n",
      " 2   recommend           14385 non-null  bool  \n",
      " 3   sentiment_analysis  14385 non-null  int64 \n",
      " 4   user_id             14385 non-null  object\n",
      "dtypes: bool(1), int64(2), object(2)\n",
      "memory usage: 576.0+ KB\n"
     ]
    }
   ],
   "source": [
    "merged_recommend_model_data.info()"
   ]
  },
  {
   "cell_type": "code",
   "execution_count": 23,
   "metadata": {},
   "outputs": [],
   "source": [
    "merged_recommend_model_data.drop_duplicates(inplace=True)"
   ]
  },
  {
   "cell_type": "code",
   "execution_count": 24,
   "metadata": {},
   "outputs": [
    {
     "name": "stdout",
     "output_type": "stream",
     "text": [
      "375\n"
     ]
    }
   ],
   "source": [
    "# Contar la cantidad de elementos únicos en la columna 'item_id'\n",
    "unique_item_ids_count = merged_recommend_model_data['item_id'].nunique()\n",
    "# Mostrar la cantidad de elementos únicos en 'item_id'\n",
    "print(unique_item_ids_count)"
   ]
  },
  {
   "cell_type": "code",
   "execution_count": 25,
   "metadata": {},
   "outputs": [
    {
     "name": "stdout",
     "output_type": "stream",
     "text": [
      "375\n"
     ]
    }
   ],
   "source": [
    "# Contar la cantidad de elementos únicos en la columna 'app_name'\n",
    "unique_app_names_count = merged_recommend_model_data['app_name'].nunique()\n",
    "# Mostrar la cantidad de elementos únicos en 'item_id'\n",
    "print(unique_app_names_count)"
   ]
  },
  {
   "cell_type": "code",
   "execution_count": 26,
   "metadata": {},
   "outputs": [
    {
     "name": "stdout",
     "output_type": "stream",
     "text": [
      "3486\n"
     ]
    }
   ],
   "source": [
    "# Contar la cantidad de elementos únicos en la columna 'app_name'\n",
    "unique_user_id_count = merged_recommend_model_data['user_id'].nunique()\n",
    "# Mostrar la cantidad de elementos únicos en 'item_id'\n",
    "print(unique_user_id_count)"
   ]
  },
  {
   "cell_type": "code",
   "execution_count": 27,
   "metadata": {},
   "outputs": [
    {
     "data": {
      "text/html": [
       "<div>\n",
       "<style scoped>\n",
       "    .dataframe tbody tr th:only-of-type {\n",
       "        vertical-align: middle;\n",
       "    }\n",
       "\n",
       "    .dataframe tbody tr th {\n",
       "        vertical-align: top;\n",
       "    }\n",
       "\n",
       "    .dataframe thead th {\n",
       "        text-align: right;\n",
       "    }\n",
       "</style>\n",
       "<table border=\"1\" class=\"dataframe\">\n",
       "  <thead>\n",
       "    <tr style=\"text-align: right;\">\n",
       "      <th></th>\n",
       "      <th>item_id</th>\n",
       "      <th>app_name</th>\n",
       "      <th>recommend</th>\n",
       "      <th>sentiment_analysis</th>\n",
       "      <th>user_id</th>\n",
       "    </tr>\n",
       "  </thead>\n",
       "  <tbody>\n",
       "    <tr>\n",
       "      <th>605</th>\n",
       "      <td>10</td>\n",
       "      <td>Counter-Strike</td>\n",
       "      <td>False</td>\n",
       "      <td>2</td>\n",
       "      <td>PorkChopElite</td>\n",
       "    </tr>\n",
       "    <tr>\n",
       "      <th>517</th>\n",
       "      <td>10</td>\n",
       "      <td>Counter-Strike</td>\n",
       "      <td>True</td>\n",
       "      <td>1</td>\n",
       "      <td>tomdabomb115</td>\n",
       "    </tr>\n",
       "    <tr>\n",
       "      <th>518</th>\n",
       "      <td>10</td>\n",
       "      <td>Counter-Strike</td>\n",
       "      <td>True</td>\n",
       "      <td>1</td>\n",
       "      <td>jordanwech111</td>\n",
       "    </tr>\n",
       "    <tr>\n",
       "      <th>519</th>\n",
       "      <td>10</td>\n",
       "      <td>Counter-Strike</td>\n",
       "      <td>True</td>\n",
       "      <td>1</td>\n",
       "      <td>76561198071047037</td>\n",
       "    </tr>\n",
       "    <tr>\n",
       "      <th>520</th>\n",
       "      <td>10</td>\n",
       "      <td>Counter-Strike</td>\n",
       "      <td>True</td>\n",
       "      <td>1</td>\n",
       "      <td>shitmelnbonsays</td>\n",
       "    </tr>\n",
       "  </tbody>\n",
       "</table>\n",
       "</div>"
      ],
      "text/plain": [
       "     item_id        app_name  recommend  sentiment_analysis            user_id\n",
       "605       10  Counter-Strike      False                   2      PorkChopElite\n",
       "517       10  Counter-Strike       True                   1       tomdabomb115\n",
       "518       10  Counter-Strike       True                   1      jordanwech111\n",
       "519       10  Counter-Strike       True                   1  76561198071047037\n",
       "520       10  Counter-Strike       True                   1    shitmelnbonsays"
      ]
     },
     "execution_count": 27,
     "metadata": {},
     "output_type": "execute_result"
    }
   ],
   "source": [
    "merged_recommend_model_data.head()"
   ]
  },
  {
   "cell_type": "code",
   "execution_count": 28,
   "metadata": {},
   "outputs": [],
   "source": [
    "# Guardar el DataFrame fusionado en un archivo .parquet\n",
    "merged_recommend_model_data.to_parquet('data/FastAPI/merged_recommend_model.parquet', index=False)"
   ]
  }
 ],
 "metadata": {
  "kernelspec": {
   "display_name": "LabPI1",
   "language": "python",
   "name": "python3"
  },
  "language_info": {
   "codemirror_mode": {
    "name": "ipython",
    "version": 3
   },
   "file_extension": ".py",
   "mimetype": "text/x-python",
   "name": "python",
   "nbconvert_exporter": "python",
   "pygments_lexer": "ipython3",
   "version": "3.12.0"
  }
 },
 "nbformat": 4,
 "nbformat_minor": 2
}
