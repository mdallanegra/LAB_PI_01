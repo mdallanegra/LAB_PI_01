{
 "cells": [
  {
   "cell_type": "code",
   "execution_count": 1,
   "metadata": {},
   "outputs": [],
   "source": [
    "import pandas as pd"
   ]
  },
  {
   "cell_type": "markdown",
   "metadata": {},
   "source": [
    "# Tabla de Recomendacion"
   ]
  },
  {
   "cell_type": "markdown",
   "metadata": {},
   "source": [
    "Basandonos en las tablas creadas para FastAPI creamos una para el Modelo de Recomendación"
   ]
  },
  {
   "cell_type": "markdown",
   "metadata": {},
   "source": [
    "- merged_steam_rev_data.parquet"
   ]
  },
  {
   "cell_type": "code",
   "execution_count": 2,
   "metadata": {},
   "outputs": [],
   "source": [
    "# Direccion del archivo comprimido y reconvertido\n",
    "merged_steam_rev_content = 'FastAPI/merged_steam_rev_data.parquet'\n",
    "\n",
    "# Cargar directamente el archivo comprimido en un DataFrame\n",
    "merged_steam_rev_data = pd.read_parquet(merged_steam_rev_content)"
   ]
  },
  {
   "cell_type": "markdown",
   "metadata": {},
   "source": [
    "- merged_steam_user_data.parquet"
   ]
  },
  {
   "cell_type": "code",
   "execution_count": 3,
   "metadata": {},
   "outputs": [],
   "source": [
    "# Direccion del archivo comprimido y reconvertido\n",
    "merged_steam_user_content = 'FastAPI/merged_steam_user_data.parquet'\n",
    "\n",
    "# Cargar directamente el archivo comprimido en un DataFrame\n",
    "merged_steam_user_data = pd.read_parquet(merged_steam_user_content)"
   ]
  },
  {
   "cell_type": "markdown",
   "metadata": {},
   "source": [
    "- Fusionamos las Tablas"
   ]
  },
  {
   "cell_type": "code",
   "execution_count": 4,
   "metadata": {},
   "outputs": [],
   "source": [
    "# Fusionar los DataFrames por las columnas mencionadas\n",
    "merged_recommend_model_data = pd.merge(merged_steam_rev_data[['item_id','app_name', 'recommend', 'sentiment_analysis']],\n",
    "                                       merged_steam_user_data[['item_id', 'user_id']],\n",
    "                                       on='item_id')\n",
    "\n",
    "# Ordenar por la columna 'app_name'\n",
    "merged_recommend_model_data.sort_values('item_id', inplace=True)\n"
   ]
  },
  {
   "cell_type": "code",
   "execution_count": 5,
   "metadata": {},
   "outputs": [
    {
     "data": {
      "text/html": [
       "<div>\n",
       "<style scoped>\n",
       "    .dataframe tbody tr th:only-of-type {\n",
       "        vertical-align: middle;\n",
       "    }\n",
       "\n",
       "    .dataframe tbody tr th {\n",
       "        vertical-align: top;\n",
       "    }\n",
       "\n",
       "    .dataframe thead th {\n",
       "        text-align: right;\n",
       "    }\n",
       "</style>\n",
       "<table border=\"1\" class=\"dataframe\">\n",
       "  <thead>\n",
       "    <tr style=\"text-align: right;\">\n",
       "      <th></th>\n",
       "      <th>item_id</th>\n",
       "      <th>app_name</th>\n",
       "      <th>recommend</th>\n",
       "      <th>sentiment_analysis</th>\n",
       "      <th>user_id</th>\n",
       "    </tr>\n",
       "  </thead>\n",
       "  <tbody>\n",
       "    <tr>\n",
       "      <th>414</th>\n",
       "      <td>10</td>\n",
       "      <td>Counter-Strike</td>\n",
       "      <td>True</td>\n",
       "      <td>1</td>\n",
       "      <td>76561198098976923</td>\n",
       "    </tr>\n",
       "    <tr>\n",
       "      <th>457</th>\n",
       "      <td>10</td>\n",
       "      <td>Counter-Strike</td>\n",
       "      <td>True</td>\n",
       "      <td>0</td>\n",
       "      <td>OldLeakyBoat</td>\n",
       "    </tr>\n",
       "    <tr>\n",
       "      <th>456</th>\n",
       "      <td>10</td>\n",
       "      <td>Counter-Strike</td>\n",
       "      <td>True</td>\n",
       "      <td>0</td>\n",
       "      <td>76561198045544792</td>\n",
       "    </tr>\n",
       "    <tr>\n",
       "      <th>455</th>\n",
       "      <td>10</td>\n",
       "      <td>Counter-Strike</td>\n",
       "      <td>True</td>\n",
       "      <td>0</td>\n",
       "      <td>76561198033873460</td>\n",
       "    </tr>\n",
       "    <tr>\n",
       "      <th>454</th>\n",
       "      <td>10</td>\n",
       "      <td>Counter-Strike</td>\n",
       "      <td>True</td>\n",
       "      <td>2</td>\n",
       "      <td>XmissbattosaiX</td>\n",
       "    </tr>\n",
       "  </tbody>\n",
       "</table>\n",
       "</div>"
      ],
      "text/plain": [
       "     item_id        app_name  recommend  sentiment_analysis            user_id\n",
       "414       10  Counter-Strike       True                   1  76561198098976923\n",
       "457       10  Counter-Strike       True                   0       OldLeakyBoat\n",
       "456       10  Counter-Strike       True                   0  76561198045544792\n",
       "455       10  Counter-Strike       True                   0  76561198033873460\n",
       "454       10  Counter-Strike       True                   2     XmissbattosaiX"
      ]
     },
     "execution_count": 5,
     "metadata": {},
     "output_type": "execute_result"
    }
   ],
   "source": [
    "merged_recommend_model_data.head()"
   ]
  },
  {
   "cell_type": "code",
   "execution_count": 6,
   "metadata": {},
   "outputs": [
    {
     "name": "stdout",
     "output_type": "stream",
     "text": [
      "<class 'pandas.core.frame.DataFrame'>\n",
      "Index: 10489 entries, 414 to 9228\n",
      "Data columns (total 5 columns):\n",
      " #   Column              Non-Null Count  Dtype \n",
      "---  ------              --------------  ----- \n",
      " 0   item_id             10489 non-null  int64 \n",
      " 1   app_name            10489 non-null  object\n",
      " 2   recommend           10489 non-null  bool  \n",
      " 3   sentiment_analysis  10489 non-null  int64 \n",
      " 4   user_id             10489 non-null  object\n",
      "dtypes: bool(1), int64(2), object(2)\n",
      "memory usage: 420.0+ KB\n"
     ]
    }
   ],
   "source": [
    "merged_recommend_model_data.info()"
   ]
  },
  {
   "cell_type": "code",
   "execution_count": 7,
   "metadata": {},
   "outputs": [],
   "source": [
    "merged_recommend_model_data.drop_duplicates(inplace=True)"
   ]
  },
  {
   "cell_type": "code",
   "execution_count": 8,
   "metadata": {},
   "outputs": [
    {
     "name": "stdout",
     "output_type": "stream",
     "text": [
      "228\n"
     ]
    }
   ],
   "source": [
    "# Contar la cantidad de elementos únicos en la columna 'item_id'\n",
    "unique_item_ids_count = merged_recommend_model_data['item_id'].nunique()\n",
    "# Mostrar la cantidad de elementos únicos en 'item_id'\n",
    "print(unique_item_ids_count)"
   ]
  },
  {
   "cell_type": "code",
   "execution_count": 9,
   "metadata": {},
   "outputs": [
    {
     "name": "stdout",
     "output_type": "stream",
     "text": [
      "228\n"
     ]
    }
   ],
   "source": [
    "# Contar la cantidad de elementos únicos en la columna 'app_name'\n",
    "unique_app_names_count = merged_recommend_model_data['app_name'].nunique()\n",
    "# Mostrar la cantidad de elementos únicos en 'item_id'\n",
    "print(unique_app_names_count)"
   ]
  },
  {
   "cell_type": "code",
   "execution_count": 10,
   "metadata": {},
   "outputs": [
    {
     "name": "stdout",
     "output_type": "stream",
     "text": [
      "2445\n"
     ]
    }
   ],
   "source": [
    "# Contar la cantidad de elementos únicos en la columna 'app_name'\n",
    "unique_user_id_count = merged_recommend_model_data['user_id'].nunique()\n",
    "# Mostrar la cantidad de elementos únicos en 'item_id'\n",
    "print(unique_user_id_count)"
   ]
  },
  {
   "cell_type": "code",
   "execution_count": 11,
   "metadata": {},
   "outputs": [
    {
     "data": {
      "text/html": [
       "<div>\n",
       "<style scoped>\n",
       "    .dataframe tbody tr th:only-of-type {\n",
       "        vertical-align: middle;\n",
       "    }\n",
       "\n",
       "    .dataframe tbody tr th {\n",
       "        vertical-align: top;\n",
       "    }\n",
       "\n",
       "    .dataframe thead th {\n",
       "        text-align: right;\n",
       "    }\n",
       "</style>\n",
       "<table border=\"1\" class=\"dataframe\">\n",
       "  <thead>\n",
       "    <tr style=\"text-align: right;\">\n",
       "      <th></th>\n",
       "      <th>item_id</th>\n",
       "      <th>app_name</th>\n",
       "      <th>recommend</th>\n",
       "      <th>sentiment_analysis</th>\n",
       "      <th>user_id</th>\n",
       "    </tr>\n",
       "  </thead>\n",
       "  <tbody>\n",
       "    <tr>\n",
       "      <th>414</th>\n",
       "      <td>10</td>\n",
       "      <td>Counter-Strike</td>\n",
       "      <td>True</td>\n",
       "      <td>1</td>\n",
       "      <td>76561198098976923</td>\n",
       "    </tr>\n",
       "    <tr>\n",
       "      <th>457</th>\n",
       "      <td>10</td>\n",
       "      <td>Counter-Strike</td>\n",
       "      <td>True</td>\n",
       "      <td>0</td>\n",
       "      <td>OldLeakyBoat</td>\n",
       "    </tr>\n",
       "    <tr>\n",
       "      <th>456</th>\n",
       "      <td>10</td>\n",
       "      <td>Counter-Strike</td>\n",
       "      <td>True</td>\n",
       "      <td>0</td>\n",
       "      <td>76561198045544792</td>\n",
       "    </tr>\n",
       "    <tr>\n",
       "      <th>455</th>\n",
       "      <td>10</td>\n",
       "      <td>Counter-Strike</td>\n",
       "      <td>True</td>\n",
       "      <td>0</td>\n",
       "      <td>76561198033873460</td>\n",
       "    </tr>\n",
       "    <tr>\n",
       "      <th>454</th>\n",
       "      <td>10</td>\n",
       "      <td>Counter-Strike</td>\n",
       "      <td>True</td>\n",
       "      <td>2</td>\n",
       "      <td>XmissbattosaiX</td>\n",
       "    </tr>\n",
       "  </tbody>\n",
       "</table>\n",
       "</div>"
      ],
      "text/plain": [
       "     item_id        app_name  recommend  sentiment_analysis            user_id\n",
       "414       10  Counter-Strike       True                   1  76561198098976923\n",
       "457       10  Counter-Strike       True                   0       OldLeakyBoat\n",
       "456       10  Counter-Strike       True                   0  76561198045544792\n",
       "455       10  Counter-Strike       True                   0  76561198033873460\n",
       "454       10  Counter-Strike       True                   2     XmissbattosaiX"
      ]
     },
     "execution_count": 11,
     "metadata": {},
     "output_type": "execute_result"
    }
   ],
   "source": [
    "merged_recommend_model_data.head()"
   ]
  },
  {
   "cell_type": "code",
   "execution_count": 12,
   "metadata": {},
   "outputs": [],
   "source": [
    "# Guardar el DataFrame fusionado en un archivo .parquet\n",
    "merged_recommend_model_data.to_parquet('FastAPI/merged_recommend_model.parquet', index=False)"
   ]
  }
 ],
 "metadata": {
  "kernelspec": {
   "display_name": "LabPI1",
   "language": "python",
   "name": "python3"
  },
  "language_info": {
   "codemirror_mode": {
    "name": "ipython",
    "version": 3
   },
   "file_extension": ".py",
   "mimetype": "text/x-python",
   "name": "python",
   "nbconvert_exporter": "python",
   "pygments_lexer": "ipython3",
   "version": "3.12.1"
  }
 },
 "nbformat": 4,
 "nbformat_minor": 2
}
