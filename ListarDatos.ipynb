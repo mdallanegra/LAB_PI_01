{
 "cells": [
  {
   "cell_type": "code",
   "execution_count": 11,
   "metadata": {},
   "outputs": [],
   "source": [
    "import pandas as pd"
   ]
  },
  {
   "cell_type": "code",
   "execution_count": 12,
   "metadata": {},
   "outputs": [],
   "source": [
    "steam_rev_content = 'FastAPI/merged_steam_rev_data.parquet'\n",
    "steam_rev_data = pd.read_parquet(steam_rev_content)"
   ]
  },
  {
   "cell_type": "code",
   "execution_count": 13,
   "metadata": {},
   "outputs": [],
   "source": [
    "steam_user_content = 'FastAPI/merged_steam_user_data.parquet'\n",
    "steam_user_data = pd.read_parquet(steam_user_content)"
   ]
  },
  {
   "cell_type": "code",
   "execution_count": 14,
   "metadata": {},
   "outputs": [],
   "source": [
    "random_merged_recommend_content = 'FastAPI/merged_recommend_model.parquet'\n",
    "random_merged_recommend_model = pd.read_parquet(random_merged_recommend_content)"
   ]
  },
  {
   "cell_type": "code",
   "execution_count": 15,
   "metadata": {},
   "outputs": [
    {
     "data": {
      "text/html": [
       "<div>\n",
       "<style scoped>\n",
       "    .dataframe tbody tr th:only-of-type {\n",
       "        vertical-align: middle;\n",
       "    }\n",
       "\n",
       "    .dataframe tbody tr th {\n",
       "        vertical-align: top;\n",
       "    }\n",
       "\n",
       "    .dataframe thead th {\n",
       "        text-align: right;\n",
       "    }\n",
       "</style>\n",
       "<table border=\"1\" class=\"dataframe\">\n",
       "  <thead>\n",
       "    <tr style=\"text-align: right;\">\n",
       "      <th></th>\n",
       "      <th>app_name</th>\n",
       "      <th>item_id</th>\n",
       "      <th>release_year</th>\n",
       "      <th>recommend</th>\n",
       "      <th>sentiment_analysis</th>\n",
       "    </tr>\n",
       "  </thead>\n",
       "  <tbody>\n",
       "    <tr>\n",
       "      <th>0</th>\n",
       "      <td>Sword of the Samurai</td>\n",
       "      <td>327950</td>\n",
       "      <td>1989</td>\n",
       "      <td>True</td>\n",
       "      <td>2</td>\n",
       "    </tr>\n",
       "    <tr>\n",
       "      <th>1</th>\n",
       "      <td>Commander Keen</td>\n",
       "      <td>9180</td>\n",
       "      <td>1990</td>\n",
       "      <td>True</td>\n",
       "      <td>2</td>\n",
       "    </tr>\n",
       "    <tr>\n",
       "      <th>2</th>\n",
       "      <td>LOOM™</td>\n",
       "      <td>32340</td>\n",
       "      <td>1990</td>\n",
       "      <td>True</td>\n",
       "      <td>2</td>\n",
       "    </tr>\n",
       "    <tr>\n",
       "      <th>3</th>\n",
       "      <td>Commander Keen</td>\n",
       "      <td>9180</td>\n",
       "      <td>1990</td>\n",
       "      <td>False</td>\n",
       "      <td>0</td>\n",
       "    </tr>\n",
       "    <tr>\n",
       "      <th>4</th>\n",
       "      <td>Crystal Caves</td>\n",
       "      <td>358260</td>\n",
       "      <td>1991</td>\n",
       "      <td>True</td>\n",
       "      <td>2</td>\n",
       "    </tr>\n",
       "  </tbody>\n",
       "</table>\n",
       "</div>"
      ],
      "text/plain": [
       "               app_name  item_id  release_year  recommend  sentiment_analysis\n",
       "0  Sword of the Samurai   327950          1989       True                   2\n",
       "1        Commander Keen     9180          1990       True                   2\n",
       "2                 LOOM™    32340          1990       True                   2\n",
       "3        Commander Keen     9180          1990      False                   0\n",
       "4         Crystal Caves   358260          1991       True                   2"
      ]
     },
     "execution_count": 15,
     "metadata": {},
     "output_type": "execute_result"
    }
   ],
   "source": [
    "steam_rev_data.head()"
   ]
  },
  {
   "cell_type": "code",
   "execution_count": 16,
   "metadata": {},
   "outputs": [
    {
     "data": {
      "text/html": [
       "<div>\n",
       "<style scoped>\n",
       "    .dataframe tbody tr th:only-of-type {\n",
       "        vertical-align: middle;\n",
       "    }\n",
       "\n",
       "    .dataframe tbody tr th {\n",
       "        vertical-align: top;\n",
       "    }\n",
       "\n",
       "    .dataframe thead th {\n",
       "        text-align: right;\n",
       "    }\n",
       "</style>\n",
       "<table border=\"1\" class=\"dataframe\">\n",
       "  <thead>\n",
       "    <tr style=\"text-align: right;\">\n",
       "      <th></th>\n",
       "      <th>item_id</th>\n",
       "      <th>user_id</th>\n",
       "      <th>playtime_forever</th>\n",
       "      <th>genres</th>\n",
       "      <th>release_year</th>\n",
       "    </tr>\n",
       "  </thead>\n",
       "  <tbody>\n",
       "    <tr>\n",
       "      <th>0</th>\n",
       "      <td>620</td>\n",
       "      <td>76561198062042547</td>\n",
       "      <td>2268</td>\n",
       "      <td>RPG</td>\n",
       "      <td>2010</td>\n",
       "    </tr>\n",
       "    <tr>\n",
       "      <th>1</th>\n",
       "      <td>55230</td>\n",
       "      <td>Str1ke4</td>\n",
       "      <td>307</td>\n",
       "      <td>Action</td>\n",
       "      <td>2000</td>\n",
       "    </tr>\n",
       "    <tr>\n",
       "      <th>2</th>\n",
       "      <td>34270</td>\n",
       "      <td>76561198040135674</td>\n",
       "      <td>5</td>\n",
       "      <td>Indie</td>\n",
       "      <td>2017</td>\n",
       "    </tr>\n",
       "    <tr>\n",
       "      <th>3</th>\n",
       "      <td>34330</td>\n",
       "      <td>hyphyy</td>\n",
       "      <td>2960</td>\n",
       "      <td>Strategy</td>\n",
       "      <td>2017</td>\n",
       "    </tr>\n",
       "    <tr>\n",
       "      <th>4</th>\n",
       "      <td>35420</td>\n",
       "      <td>Shykorus_Wilde_Totora</td>\n",
       "      <td>0</td>\n",
       "      <td>Web Publishing</td>\n",
       "      <td>2016</td>\n",
       "    </tr>\n",
       "  </tbody>\n",
       "</table>\n",
       "</div>"
      ],
      "text/plain": [
       "   item_id                user_id  playtime_forever          genres  \\\n",
       "0      620      76561198062042547              2268             RPG   \n",
       "1    55230                Str1ke4               307          Action   \n",
       "2    34270      76561198040135674                 5           Indie   \n",
       "3    34330                 hyphyy              2960        Strategy   \n",
       "4    35420  Shykorus_Wilde_Totora                 0  Web Publishing   \n",
       "\n",
       "   release_year  \n",
       "0          2010  \n",
       "1          2000  \n",
       "2          2017  \n",
       "3          2017  \n",
       "4          2016  "
      ]
     },
     "execution_count": 16,
     "metadata": {},
     "output_type": "execute_result"
    }
   ],
   "source": [
    "steam_user_data.head()"
   ]
  },
  {
   "cell_type": "code",
   "execution_count": 17,
   "metadata": {},
   "outputs": [
    {
     "data": {
      "text/html": [
       "<div>\n",
       "<style scoped>\n",
       "    .dataframe tbody tr th:only-of-type {\n",
       "        vertical-align: middle;\n",
       "    }\n",
       "\n",
       "    .dataframe tbody tr th {\n",
       "        vertical-align: top;\n",
       "    }\n",
       "\n",
       "    .dataframe thead th {\n",
       "        text-align: right;\n",
       "    }\n",
       "</style>\n",
       "<table border=\"1\" class=\"dataframe\">\n",
       "  <thead>\n",
       "    <tr style=\"text-align: right;\">\n",
       "      <th></th>\n",
       "      <th>item_id</th>\n",
       "      <th>app_name</th>\n",
       "      <th>recommend</th>\n",
       "      <th>sentiment_analysis</th>\n",
       "      <th>user_id</th>\n",
       "    </tr>\n",
       "  </thead>\n",
       "  <tbody>\n",
       "    <tr>\n",
       "      <th>0</th>\n",
       "      <td>10</td>\n",
       "      <td>Counter-Strike</td>\n",
       "      <td>True</td>\n",
       "      <td>2</td>\n",
       "      <td>76561197986591060</td>\n",
       "    </tr>\n",
       "    <tr>\n",
       "      <th>1</th>\n",
       "      <td>10</td>\n",
       "      <td>Counter-Strike</td>\n",
       "      <td>True</td>\n",
       "      <td>2</td>\n",
       "      <td>Segraps</td>\n",
       "    </tr>\n",
       "    <tr>\n",
       "      <th>2</th>\n",
       "      <td>10</td>\n",
       "      <td>Counter-Strike</td>\n",
       "      <td>True</td>\n",
       "      <td>2</td>\n",
       "      <td>76561198083594288</td>\n",
       "    </tr>\n",
       "    <tr>\n",
       "      <th>3</th>\n",
       "      <td>10</td>\n",
       "      <td>Counter-Strike</td>\n",
       "      <td>True</td>\n",
       "      <td>2</td>\n",
       "      <td>jeoliveira10</td>\n",
       "    </tr>\n",
       "    <tr>\n",
       "      <th>4</th>\n",
       "      <td>10</td>\n",
       "      <td>Counter-Strike</td>\n",
       "      <td>True</td>\n",
       "      <td>2</td>\n",
       "      <td>msoles7</td>\n",
       "    </tr>\n",
       "  </tbody>\n",
       "</table>\n",
       "</div>"
      ],
      "text/plain": [
       "   item_id        app_name  recommend  sentiment_analysis            user_id\n",
       "0       10  Counter-Strike       True                   2  76561197986591060\n",
       "1       10  Counter-Strike       True                   2            Segraps\n",
       "2       10  Counter-Strike       True                   2  76561198083594288\n",
       "3       10  Counter-Strike       True                   2       jeoliveira10\n",
       "4       10  Counter-Strike       True                   2            msoles7"
      ]
     },
     "execution_count": 17,
     "metadata": {},
     "output_type": "execute_result"
    }
   ],
   "source": [
    "random_merged_recommend_model.head()"
   ]
  },
  {
   "cell_type": "code",
   "execution_count": 18,
   "metadata": {},
   "outputs": [
    {
     "name": "stdout",
     "output_type": "stream",
     "text": [
      "El rango de release_year en steam_rev_data es: 1989 hasta 2017\n",
      "El rango de release_year en steam_user_data es: 1998 hasta 2018\n"
     ]
    }
   ],
   "source": [
    "max_release_year_steam_rev_data = steam_rev_data['release_year'].max()\n",
    "min_release_year_steam_rev_data = steam_rev_data['release_year'].min()\n",
    "max_release_year_steam_user_data = steam_user_data['release_year'].max()\n",
    "min_release_year_steam_user_data = steam_user_data['release_year'].min()\n",
    "print(f\"El rango de release_year en steam_rev_data es: {min_release_year_steam_rev_data} hasta {max_release_year_steam_rev_data}\")\n",
    "print(f\"El rango de release_year en steam_user_data es: {min_release_year_steam_user_data} hasta {max_release_year_steam_user_data}\")"
   ]
  },
  {
   "cell_type": "code",
   "execution_count": 30,
   "metadata": {},
   "outputs": [
    {
     "name": "stdout",
     "output_type": "stream",
     "text": [
      "[2017, 2016, 2015, 2014, 2013, 2012, 2011, 2010, 2009, 2008, 2007, 2006, 2005, 2004, 2003, 2002, 2001, 2000, 1999, 1998, 1997, 1996, 1995, 1994, 1993, 1992, 1991, 1990, 1989]\n"
     ]
    }
   ],
   "source": [
    "release_year_unicos_steam_rev_data = steam_rev_data['release_year'].unique()\n",
    "release_year_unicos_steam_rev_data = sorted(release_year_unicos_steam_rev_data, reverse=True)\n",
    "release_year_unicos_steam_rev_data_sorted = pd.DataFrame({'release_year': release_year_unicos_steam_rev_data})\n",
    "release_year_unicos_steam_rev_data_sorted = release_year_unicos_steam_rev_data_sorted.sort_values(by='release_year', ascending=False).reset_index(drop=True)\n",
    "print(release_year_unicos_steam_rev_data)"
   ]
  },
  {
   "cell_type": "code",
   "execution_count": 31,
   "metadata": {},
   "outputs": [
    {
     "name": "stdout",
     "output_type": "stream",
     "text": [
      "[2018, 2017, 2016, 2015, 2014, 2013, 2012, 2011, 2010, 2009, 2008, 2007, 2006, 2005, 2003, 2002, 2001, 2000, 1999, 1998]\n"
     ]
    }
   ],
   "source": [
    "release_year_unicos_steam_user_data = steam_user_data['release_year'].unique()\n",
    "release_year_unicos_steam_user_data = sorted(release_year_unicos_steam_user_data, reverse=True)\n",
    "release_year_unicos_steam_user_data_sorted = pd.DataFrame({'release_year': release_year_unicos_steam_user_data})\n",
    "release_year_unicos_steam_user_data_sorted = release_year_unicos_steam_user_data_sorted.sort_values(by='release_year', ascending=False).reset_index(drop=True)\n",
    "print(release_year_unicos_steam_user_data)"
   ]
  },
  {
   "cell_type": "code",
   "execution_count": 32,
   "metadata": {},
   "outputs": [
    {
     "name": "stdout",
     "output_type": "stream",
     "text": [
      "['76561198062042547' 'Str1ke4' '76561198040135674' ... 'nitroshroom'\n",
      " 'TuaMater' 'drsaw']\n"
     ]
    },
    {
     "data": {
      "text/html": [
       "<div>\n",
       "<style scoped>\n",
       "    .dataframe tbody tr th:only-of-type {\n",
       "        vertical-align: middle;\n",
       "    }\n",
       "\n",
       "    .dataframe tbody tr th {\n",
       "        vertical-align: top;\n",
       "    }\n",
       "\n",
       "    .dataframe thead th {\n",
       "        text-align: right;\n",
       "    }\n",
       "</style>\n",
       "<table border=\"1\" class=\"dataframe\">\n",
       "  <thead>\n",
       "    <tr style=\"text-align: right;\">\n",
       "      <th></th>\n",
       "      <th>user_id</th>\n",
       "    </tr>\n",
       "  </thead>\n",
       "  <tbody>\n",
       "    <tr>\n",
       "      <th>0</th>\n",
       "      <td>76561198062042547</td>\n",
       "    </tr>\n",
       "    <tr>\n",
       "      <th>1</th>\n",
       "      <td>Str1ke4</td>\n",
       "    </tr>\n",
       "    <tr>\n",
       "      <th>2</th>\n",
       "      <td>76561198040135674</td>\n",
       "    </tr>\n",
       "    <tr>\n",
       "      <th>3</th>\n",
       "      <td>hyphyy</td>\n",
       "    </tr>\n",
       "    <tr>\n",
       "      <th>4</th>\n",
       "      <td>Shykorus_Wilde_Totora</td>\n",
       "    </tr>\n",
       "    <tr>\n",
       "      <th>5</th>\n",
       "      <td>Gunstorm246</td>\n",
       "    </tr>\n",
       "    <tr>\n",
       "      <th>6</th>\n",
       "      <td>76561198105011167</td>\n",
       "    </tr>\n",
       "    <tr>\n",
       "      <th>7</th>\n",
       "      <td>fenetic</td>\n",
       "    </tr>\n",
       "    <tr>\n",
       "      <th>8</th>\n",
       "      <td>Doctorsicknote</td>\n",
       "    </tr>\n",
       "    <tr>\n",
       "      <th>9</th>\n",
       "      <td>captainmehico</td>\n",
       "    </tr>\n",
       "  </tbody>\n",
       "</table>\n",
       "</div>"
      ],
      "text/plain": [
       "                 user_id\n",
       "0      76561198062042547\n",
       "1                Str1ke4\n",
       "2      76561198040135674\n",
       "3                 hyphyy\n",
       "4  Shykorus_Wilde_Totora\n",
       "5            Gunstorm246\n",
       "6      76561198105011167\n",
       "7                fenetic\n",
       "8         Doctorsicknote\n",
       "9          captainmehico"
      ]
     },
     "execution_count": 32,
     "metadata": {},
     "output_type": "execute_result"
    }
   ],
   "source": [
    "user_ids_unicos = steam_user_data['user_id'].unique()\n",
    "user_ids_df = pd.DataFrame({'user_id': user_ids_unicos})\n",
    "print(user_ids_unicos)\n",
    "user_ids_df.head(10)"
   ]
  }
 ],
 "metadata": {
  "kernelspec": {
   "display_name": ".venv",
   "language": "python",
   "name": "python3"
  },
  "language_info": {
   "codemirror_mode": {
    "name": "ipython",
    "version": 3
   },
   "file_extension": ".py",
   "mimetype": "text/x-python",
   "name": "python",
   "nbconvert_exporter": "python",
   "pygments_lexer": "ipython3",
   "version": "3.12.1"
  }
 },
 "nbformat": 4,
 "nbformat_minor": 2
}
